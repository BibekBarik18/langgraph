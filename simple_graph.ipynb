{
 "cells": [
  {
   "cell_type": "code",
   "execution_count": 4,
   "id": "01871d1a",
   "metadata": {},
   "outputs": [],
   "source": [
    "from typing import TypedDict\n",
    "\n",
    "class Port(TypedDict):\n",
    "    total:float\n",
    "    usd:float\n",
    "    inr:float"
   ]
  },
  {
   "cell_type": "code",
   "execution_count": 10,
   "id": "2bb5b5b6",
   "metadata": {},
   "outputs": [],
   "source": [
    "def calc_usd(state:Port)->Port:\n",
    "    state['usd']=state['total']*1.08\n",
    "    return state\n",
    "\n",
    "def calc_inr(state:Port)->Port:\n",
    "    state['inr']=state['total']*90.0\n",
    "    return state"
   ]
  },
  {
   "cell_type": "code",
   "execution_count": 13,
   "id": "7dc35a67",
   "metadata": {},
   "outputs": [],
   "source": [
    "from langgraph.graph import StateGraph, START, END\n",
    "\n",
    "builder=StateGraph(Port)\n",
    "builder.add_node(\"calc_usd\",calc_usd)\n",
    "builder.add_node(\"calc_inr\",calc_inr)\n",
    "builder.add_edge(START,\"calc_usd\")\n",
    "builder.add_edge(\"calc_usd\",\"calc_inr\")\n",
    "builder.add_edge(\"calc_inr\",END)\n",
    "\n",
    "graph=builder.compile()"
   ]
  },
  {
   "cell_type": "code",
   "execution_count": 15,
   "id": "1e821c8f",
   "metadata": {},
   "outputs": [
    {
     "data": {
      "image/png": "[encoded data removed]",
      "text/plain": [
       "<IPython.core.display.Image object>"
      ]
     },
     "metadata": {},
     "output_type": "display_data"
    }
   ],
   "source": [
    "from IPython.display import  Image,display\n",
    "\n",
    "display(Image(graph.get_graph().draw_mermaid_png()))"
   ]
  },
  {
   "cell_type": "code",
   "execution_count": 16,
   "id": "56048bc3",
   "metadata": {},
   "outputs": [
    {
     "data": {
      "text/plain": [
       "{'total': 1000.0, 'usd': 1080.0, 'inr': 90000.0}"
      ]
     },
     "execution_count": 16,
     "metadata": {},
     "output_type": "execute_result"
    }
   ],
   "source": [
    "graph.invoke({'total': 1000.0})"
   ]
  },
  {
   "cell_type": "code",
   "execution_count": null,
   "id": "37583507",
   "metadata": {},
   "outputs": [],
   "source": []
  }
 ],
 "metadata": {
  "kernelspec": {
   "display_name": "base",
   "language": "python",
   "name": "python3"
  },
  "language_info": {
   "codemirror_mode": {
    "name": "ipython",
    "version": 3
   },
   "file_extension": ".py",
   "mimetype": "text/x-python",
   "name": "python",
   "nbconvert_exporter": "python",
   "pygments_lexer": "ipython3",
   "version": "3.11.5"
  }
 },
 "nbformat": 4,
 "nbformat_minor": 5
}
