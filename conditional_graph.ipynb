{
 "cells": [
  {
   "cell_type": "code",
   "execution_count": 1,
   "id": "87ea2d65",
   "metadata": {},
   "outputs": [],
   "source": [
    "from typing import TypedDict\n",
    "\n",
    "class Port(TypedDict):\n",
    "    amt:float\n",
    "    usd:float\n",
    "    target:str\n",
    "    total:float"
   ]
  },
  {
   "cell_type": "code",
   "execution_count": 6,
   "id": "25f43800",
   "metadata": {},
   "outputs": [],
   "source": [
    "def calc_usd(state:Port)->Port:\n",
    "    state['usd']=state['amt']*1.08\n",
    "    return state\n",
    "\n",
    "def calc_inr(state:Port)->Port:\n",
    "    state['total']=state['usd']*90.0\n",
    "    return state\n",
    "\n",
    "def calc_eur(state:Port)->Port:\n",
    "    state['total']=state['usd']*50.0\n",
    "    return state\n",
    "\n",
    "def choose(state:Port)->str:\n",
    "    return state[\"target\"]\n"
   ]
  },
  {
   "cell_type": "code",
   "execution_count": 7,
   "id": "29cb9452",
   "metadata": {},
   "outputs": [],
   "source": [
    "from langgraph.graph import StateGraph, START, END\n",
    "\n",
    "builder=StateGraph(Port)\n",
    "builder.add_node(\"calc_usd\",calc_usd)\n",
    "builder.add_node(\"calc_inr\",calc_inr)\n",
    "builder.add_node(\"calc_eur\",calc_eur)\n",
    "builder.add_edge(START,\"calc_usd\")\n",
    "builder.add_conditional_edges(\n",
    "    \"calc_usd\",\n",
    "    choose,\n",
    "    {\n",
    "        \"INR\":\"calc_inr\",\n",
    "        \"EUR\":\"calc_eur\",\n",
    "    }\n",
    ")\n",
    "builder.add_edge([\"calc_inr\",\"calc_eur\"],END)\n",
    "\n",
    "graph=builder.compile()"
   ]
  },
  {
   "cell_type": "code",
   "execution_count": 8,
   "id": "5cefa0e6",
   "metadata": {},
   "outputs": [
    {
     "data": {
      "image/png": "[encoded data removed]",
      "text/plain": [
       "<IPython.core.display.Image object>"
      ]
     },
     "metadata": {},
     "output_type": "display_data"
    }
   ],
   "source": [
    "from IPython.display import  Image,display\n",
    "\n",
    "display(Image(graph.get_graph().draw_mermaid_png()))"
   ]
  },
  {
   "cell_type": "code",
   "execution_count": 10,
   "id": "434f85dd",
   "metadata": {},
   "outputs": [
    {
     "data": {
      "text/plain": [
       "{'amt': 1000.0, 'usd': 1080.0, 'target': 'EUR', 'total': 54000.0}"
      ]
     },
     "execution_count": 10,
     "metadata": {},
     "output_type": "execute_result"
    }
   ],
   "source": [
    "graph.invoke({'amt': 1000.0,\"target\":\"EUR\"})"
   ]
  },
  {
   "cell_type": "code",
   "execution_count": null,
   "id": "c8ebb99a",
   "metadata": {},
   "outputs": [],
   "source": []
  }
 ],
 "metadata": {
  "kernelspec": {
   "display_name": "base",
   "language": "python",
   "name": "python3"
  },
  "language_info": {
   "codemirror_mode": {
    "name": "ipython",
    "version": 3
   },
   "file_extension": ".py",
   "mimetype": "text/x-python",
   "name": "python",
   "nbconvert_exporter": "python",
   "pygments_lexer": "ipython3",
   "version": "3.11.5"
  }
 },
 "nbformat": 4,
 "nbformat_minor": 5
}
