{
 "cells": [
  {
   "cell_type": "code",
   "execution_count": 6,
   "id": "620f7163",
   "metadata": {},
   "outputs": [
    {
     "data": {
      "text/plain": [
       "True"
      ]
     },
     "execution_count": 6,
     "metadata": {},
     "output_type": "execute_result"
    }
   ],
   "source": [
    "from typing import TypedDict\n",
    "from typing import Annotated\n",
    "from langchain.chat_models import init_chat_model\n",
    "from langgraph.graph import StateGraph,START,END\n",
    "from langchain_core.tools import tool\n",
    "from langgraph.graph.message import add_messages\n",
    "from langgraph.prebuilt import ToolNode,tools_condition\n",
    "from dotenv import load_dotenv\n",
    "\n",
    "load_dotenv()"
   ]
  },
  {
   "cell_type": "code",
   "execution_count": 7,
   "id": "bce4fc0b",
   "metadata": {},
   "outputs": [],
   "source": [
    "from langgraph.checkpoint.memory import MemorySaver\n",
    "\n",
    "memory=MemorySaver()"
   ]
  },
  {
   "cell_type": "code",
   "execution_count": 8,
   "id": "d57f4c80",
   "metadata": {},
   "outputs": [],
   "source": [
    "class State(TypedDict):\n",
    "    messages:Annotated[list,add_messages]"
   ]
  },
  {
   "cell_type": "code",
   "execution_count": 19,
   "id": "a5f327b7",
   "metadata": {},
   "outputs": [],
   "source": [
    "@tool\n",
    "def get_stock_price(symbol:str)->float:\n",
    "    '''Return the current price of a stock given the stock symbol\n",
    "    :param symbol:stock symbol\n",
    "    :return: current price of the stock\n",
    "    '''\n",
    "    return{\n",
    "        \"MSFT\":200.3,\n",
    "        \"APPL\":60.4,\n",
    "        \"AMZN\":150.0,\n",
    "        \"RIL\":87.6\n",
    "    }.get(symbol,0.0)\n",
    "\n",
    "tools=[get_stock_price]\n",
    "\n",
    "llm=init_chat_model(\"google_genai:gemini-2.0-flash\")\n",
    "llm_with_tools=llm.bind_tools(tools) "
   ]
  },
  {
   "cell_type": "code",
   "execution_count": 10,
   "id": "4fda9769",
   "metadata": {},
   "outputs": [],
   "source": [
    "class State(TypedDict):\n",
    "    messages:Annotated[list,add_messages]\n",
    "\n",
    "def chatbot(state:State)->State:\n",
    "    state[\"messages\"].append(llm_with_tools.invoke(state[\"messages\"]))\n",
    "    return state\n",
    "\n",
    "builder=StateGraph(State)\n",
    "\n",
    "builder.add_node(\"chatbot_node\",chatbot)\n",
    "builder.add_node(\"tools\",ToolNode(tools))\n",
    "\n",
    "builder.add_edge(START,\"chatbot_node\")\n",
    "builder.add_conditional_edges(\"chatbot_node\",tools_condition)\n",
    "builder.add_edge(\"tools\",\"chatbot_node\")\n",
    "builder.add_edge(\"chatbot_node\",END)\n",
    "\n",
    "graph=builder.compile(checkpointer=memory)"
   ]
  },
  {
   "cell_type": "code",
   "execution_count": 11,
   "id": "fc53c47a",
   "metadata": {},
   "outputs": [
    {
     "data": {
      "image/png": "[encoded data removed]",
      "text/plain": [
       "<IPython.core.display.Image object>"
      ]
     },
     "metadata": {},
     "output_type": "display_data"
    }
   ],
   "source": [
    "from IPython.display import  Image,display\n",
    "\n",
    "display(Image(graph.get_graph().draw_mermaid_png()))"
   ]
  },
  {
   "cell_type": "code",
   "execution_count": null,
   "id": "5d5d5a80",
   "metadata": {},
   "outputs": [
    {
     "ename": "ValueError",
     "evalue": "Checkpointer requires one or more of the following 'configurable' keys: thread_id, checkpoint_ns, checkpoint_id",
     "output_type": "error",
     "traceback": [
      "\u001b[1;31m---------------------------------------------------------------------------\u001b[0m",
      "\u001b[1;31mValueError\u001b[0m                                Traceback (most recent call last)",
      "Cell \u001b[1;32mIn[12], line 1\u001b[0m\n\u001b[1;32m----> 1\u001b[0m state\u001b[38;5;241m=\u001b[39mgraph\u001b[38;5;241m.\u001b[39minvoke({\u001b[38;5;124m'\u001b[39m\u001b[38;5;124mmessages\u001b[39m\u001b[38;5;124m'\u001b[39m:[{\u001b[38;5;124m\"\u001b[39m\u001b[38;5;124mrole\u001b[39m\u001b[38;5;124m\"\u001b[39m:\u001b[38;5;124m\"\u001b[39m\u001b[38;5;124muser\u001b[39m\u001b[38;5;124m\"\u001b[39m,\u001b[38;5;124m\"\u001b[39m\u001b[38;5;124mcontent\u001b[39m\u001b[38;5;124m\"\u001b[39m:\u001b[38;5;124m\"\u001b[39m\u001b[38;5;124mwhat is the stock price of AMZN\u001b[39m\u001b[38;5;124m\"\u001b[39m}]})\n\u001b[0;32m      2\u001b[0m \u001b[38;5;28mprint\u001b[39m(state[\u001b[38;5;124m\"\u001b[39m\u001b[38;5;124mmessages\u001b[39m\u001b[38;5;124m\"\u001b[39m][\u001b[38;5;241m-\u001b[39m\u001b[38;5;241m1\u001b[39m]\u001b[38;5;241m.\u001b[39mcontent)\n",
      "File \u001b[1;32mc:\\Users\\bmbar\\anaconda3\\Lib\\site-packages\\langgraph\\pregel\\__init__.py:2843\u001b[0m, in \u001b[0;36mPregel.invoke\u001b[1;34m(self, input, config, stream_mode, print_mode, output_keys, interrupt_before, interrupt_after, **kwargs)\u001b[0m\n\u001b[0;32m   2840\u001b[0m chunks: \u001b[38;5;28mlist\u001b[39m[\u001b[38;5;28mdict\u001b[39m[\u001b[38;5;28mstr\u001b[39m, Any] \u001b[38;5;241m|\u001b[39m Any] \u001b[38;5;241m=\u001b[39m []\n\u001b[0;32m   2841\u001b[0m interrupts: \u001b[38;5;28mlist\u001b[39m[Interrupt] \u001b[38;5;241m=\u001b[39m []\n\u001b[1;32m-> 2843\u001b[0m \u001b[38;5;28;01mfor\u001b[39;00m chunk \u001b[38;5;129;01min\u001b[39;00m \u001b[38;5;28mself\u001b[39m\u001b[38;5;241m.\u001b[39mstream(\n\u001b[0;32m   2844\u001b[0m     \u001b[38;5;28minput\u001b[39m,\n\u001b[0;32m   2845\u001b[0m     config,\n\u001b[0;32m   2846\u001b[0m     stream_mode\u001b[38;5;241m=\u001b[39m[\u001b[38;5;124m\"\u001b[39m\u001b[38;5;124mupdates\u001b[39m\u001b[38;5;124m\"\u001b[39m, \u001b[38;5;124m\"\u001b[39m\u001b[38;5;124mvalues\u001b[39m\u001b[38;5;124m\"\u001b[39m]\n\u001b[0;32m   2847\u001b[0m     \u001b[38;5;28;01mif\u001b[39;00m stream_mode \u001b[38;5;241m==\u001b[39m \u001b[38;5;124m\"\u001b[39m\u001b[38;5;124mvalues\u001b[39m\u001b[38;5;124m\"\u001b[39m\n\u001b[0;32m   2848\u001b[0m     \u001b[38;5;28;01melse\u001b[39;00m stream_mode,\n\u001b[0;32m   2849\u001b[0m     print_mode\u001b[38;5;241m=\u001b[39mprint_mode,\n\u001b[0;32m   2850\u001b[0m     output_keys\u001b[38;5;241m=\u001b[39moutput_keys,\n\u001b[0;32m   2851\u001b[0m     interrupt_before\u001b[38;5;241m=\u001b[39minterrupt_before,\n\u001b[0;32m   2852\u001b[0m     interrupt_after\u001b[38;5;241m=\u001b[39minterrupt_after,\n\u001b[0;32m   2853\u001b[0m     \u001b[38;5;241m*\u001b[39m\u001b[38;5;241m*\u001b[39mkwargs,\n\u001b[0;32m   2854\u001b[0m ):\n\u001b[0;32m   2855\u001b[0m     \u001b[38;5;28;01mif\u001b[39;00m stream_mode \u001b[38;5;241m==\u001b[39m \u001b[38;5;124m\"\u001b[39m\u001b[38;5;124mvalues\u001b[39m\u001b[38;5;124m\"\u001b[39m:\n\u001b[0;32m   2856\u001b[0m         \u001b[38;5;28;01mif\u001b[39;00m \u001b[38;5;28mlen\u001b[39m(chunk) \u001b[38;5;241m==\u001b[39m \u001b[38;5;241m2\u001b[39m:\n",
      "File \u001b[1;32mc:\\Users\\bmbar\\anaconda3\\Lib\\site-packages\\langgraph\\pregel\\__init__.py:2427\u001b[0m, in \u001b[0;36mPregel.stream\u001b[1;34m(self, input, config, stream_mode, print_mode, output_keys, interrupt_before, interrupt_after, checkpoint_during, debug, subgraphs)\u001b[0m\n\u001b[0;32m   2411\u001b[0m run_manager \u001b[38;5;241m=\u001b[39m callback_manager\u001b[38;5;241m.\u001b[39mon_chain_start(\n\u001b[0;32m   2412\u001b[0m     \u001b[38;5;28;01mNone\u001b[39;00m,\n\u001b[0;32m   2413\u001b[0m     \u001b[38;5;28minput\u001b[39m,\n\u001b[0;32m   2414\u001b[0m     name\u001b[38;5;241m=\u001b[39mconfig\u001b[38;5;241m.\u001b[39mget(\u001b[38;5;124m\"\u001b[39m\u001b[38;5;124mrun_name\u001b[39m\u001b[38;5;124m\"\u001b[39m, \u001b[38;5;28mself\u001b[39m\u001b[38;5;241m.\u001b[39mget_name()),\n\u001b[0;32m   2415\u001b[0m     run_id\u001b[38;5;241m=\u001b[39mconfig\u001b[38;5;241m.\u001b[39mget(\u001b[38;5;124m\"\u001b[39m\u001b[38;5;124mrun_id\u001b[39m\u001b[38;5;124m\"\u001b[39m),\n\u001b[0;32m   2416\u001b[0m )\n\u001b[0;32m   2417\u001b[0m \u001b[38;5;28;01mtry\u001b[39;00m:\n\u001b[0;32m   2418\u001b[0m     \u001b[38;5;66;03m# assign defaults\u001b[39;00m\n\u001b[0;32m   2419\u001b[0m     (\n\u001b[0;32m   2420\u001b[0m         stream_modes,\n\u001b[0;32m   2421\u001b[0m         output_keys,\n\u001b[0;32m   2422\u001b[0m         interrupt_before_,\n\u001b[0;32m   2423\u001b[0m         interrupt_after_,\n\u001b[0;32m   2424\u001b[0m         checkpointer,\n\u001b[0;32m   2425\u001b[0m         store,\n\u001b[0;32m   2426\u001b[0m         cache,\n\u001b[1;32m-> 2427\u001b[0m     ) \u001b[38;5;241m=\u001b[39m \u001b[38;5;28mself\u001b[39m\u001b[38;5;241m.\u001b[39m_defaults(\n\u001b[0;32m   2428\u001b[0m         config,\n\u001b[0;32m   2429\u001b[0m         stream_mode\u001b[38;5;241m=\u001b[39mstream_mode,\n\u001b[0;32m   2430\u001b[0m         print_mode\u001b[38;5;241m=\u001b[39mprint_mode,\n\u001b[0;32m   2431\u001b[0m         output_keys\u001b[38;5;241m=\u001b[39moutput_keys,\n\u001b[0;32m   2432\u001b[0m         interrupt_before\u001b[38;5;241m=\u001b[39minterrupt_before,\n\u001b[0;32m   2433\u001b[0m         interrupt_after\u001b[38;5;241m=\u001b[39minterrupt_after,\n\u001b[0;32m   2434\u001b[0m     )\n\u001b[0;32m   2435\u001b[0m     \u001b[38;5;66;03m# set up subgraph checkpointing\u001b[39;00m\n\u001b[0;32m   2436\u001b[0m     \u001b[38;5;28;01mif\u001b[39;00m \u001b[38;5;28mself\u001b[39m\u001b[38;5;241m.\u001b[39mcheckpointer \u001b[38;5;129;01mis\u001b[39;00m \u001b[38;5;28;01mTrue\u001b[39;00m:\n",
      "File \u001b[1;32mc:\\Users\\bmbar\\anaconda3\\Lib\\site-packages\\langgraph\\pregel\\__init__.py:2321\u001b[0m, in \u001b[0;36mPregel._defaults\u001b[1;34m(self, config, stream_mode, print_mode, output_keys, interrupt_before, interrupt_after)\u001b[0m\n\u001b[0;32m   2319\u001b[0m     checkpointer \u001b[38;5;241m=\u001b[39m \u001b[38;5;28mself\u001b[39m\u001b[38;5;241m.\u001b[39mcheckpointer\n\u001b[0;32m   2320\u001b[0m \u001b[38;5;28;01mif\u001b[39;00m checkpointer \u001b[38;5;129;01mand\u001b[39;00m \u001b[38;5;129;01mnot\u001b[39;00m config\u001b[38;5;241m.\u001b[39mget(CONF):\n\u001b[1;32m-> 2321\u001b[0m     \u001b[38;5;28;01mraise\u001b[39;00m \u001b[38;5;167;01mValueError\u001b[39;00m(\n\u001b[0;32m   2322\u001b[0m         \u001b[38;5;124m\"\u001b[39m\u001b[38;5;124mCheckpointer requires one or more of the following \u001b[39m\u001b[38;5;124m'\u001b[39m\u001b[38;5;124mconfigurable\u001b[39m\u001b[38;5;124m'\u001b[39m\u001b[38;5;124m \u001b[39m\u001b[38;5;124m\"\u001b[39m\n\u001b[0;32m   2323\u001b[0m         \u001b[38;5;124m\"\u001b[39m\u001b[38;5;124mkeys: thread_id, checkpoint_ns, checkpoint_id\u001b[39m\u001b[38;5;124m\"\u001b[39m\n\u001b[0;32m   2324\u001b[0m     )\n\u001b[0;32m   2325\u001b[0m \u001b[38;5;28;01mif\u001b[39;00m CONFIG_KEY_STORE \u001b[38;5;129;01min\u001b[39;00m config\u001b[38;5;241m.\u001b[39mget(CONF, {}):\n\u001b[0;32m   2326\u001b[0m     store: BaseStore \u001b[38;5;241m|\u001b[39m \u001b[38;5;28;01mNone\u001b[39;00m \u001b[38;5;241m=\u001b[39m config[CONF][CONFIG_KEY_STORE]\n",
      "\u001b[1;31mValueError\u001b[0m: Checkpointer requires one or more of the following 'configurable' keys: thread_id, checkpoint_ns, checkpoint_id"
     ]
    }
   ],
   "source": [
    "\n",
    "state=graph.invoke({'messages':[{\"role\":\"user\",\"content\":\"what is the stock price of AMZN\"}]})\n",
    "print(state[\"messages\"][-1].content)"
   ]
  },
  {
   "cell_type": "code",
   "execution_count": null,
   "id": "2a23adc2",
   "metadata": {},
   "outputs": [
    {
     "data": {
      "text/plain": [
       "{'messages': [HumanMessage(content='what is the stock price of AMZN', additional_kwargs={}, response_metadata={}, id='60e01a87-5292-4886-8de0-29753ff6a319'),\n",
       "  AIMessage(content='', additional_kwargs={'function_call': {'name': 'get_stock_price', 'arguments': '{\"symbol\": \"AMZN\"}'}}, response_metadata={'prompt_feedback': {'block_reason': 0, 'safety_ratings': []}, 'finish_reason': 'STOP', 'model_name': 'gemini-2.0-flash', 'safety_ratings': []}, id='run--ee8b48d3-b86c-4228-bd9d-41388b2f33ef-0', tool_calls=[{'name': 'get_stock_price', 'args': {'symbol': 'AMZN'}, 'id': '686f194e-245a-4642-8e57-efbf64214ad6', 'type': 'tool_call'}], usage_metadata={'input_tokens': 46, 'output_tokens': 8, 'total_tokens': 54, 'input_token_details': {'cache_read': 0}}),\n",
       "  ToolMessage(content='150.0', name='get_stock_price', id='254dc3ff-2c7e-4891-be1f-f92195c9fd8c', tool_call_id='686f194e-245a-4642-8e57-efbf64214ad6'),\n",
       "  AIMessage(content='The current stock price of AMZN is 150.', additional_kwargs={}, response_metadata={'prompt_feedback': {'block_reason': 0, 'safety_ratings': []}, 'finish_reason': 'STOP', 'model_name': 'gemini-2.0-flash', 'safety_ratings': []}, id='run--2b99c44e-85f1-498d-b748-97257994798c-0', usage_metadata={'input_tokens': 61, 'output_tokens': 14, 'total_tokens': 75, 'input_token_details': {'cache_read': 0}})]}"
      ]
     },
     "execution_count": 10,
     "metadata": {},
     "output_type": "execute_result"
    }
   ],
   "source": [
    "state"
   ]
  },
  {
   "cell_type": "code",
   "execution_count": 16,
   "id": "6692bd0b",
   "metadata": {},
   "outputs": [
    {
     "name": "stdout",
     "output_type": "stream",
     "text": [
      "The current price of AMZN is 150 and the current price of MSFT is 200.3. Therefore, the value of 20 AMZN stocks and 15 MSFT stocks together is 20 * 150 + 15 * 200.3 = 3000 + 3004.5 = 6004.5.\n"
     ]
    }
   ],
   "source": [
    "config={'configurable': {'thread_id':'1'}}\n",
    "\n",
    "state=graph.invoke({'messages':[{\"role\":\"user\",\"content\":\"what is the stock price of 20 AMZN stocks and 15 MSFT together\"}]},config=config)\n",
    "print(state[\"messages\"][-1].content)"
   ]
  },
  {
   "cell_type": "code",
   "execution_count": null,
   "id": "013669d0",
   "metadata": {},
   "outputs": [
    {
     "data": {
      "text/plain": [
       "{'messages': [HumanMessage(content='what is the stock price of 20 AMZN stocks and 15 MSFT together', additional_kwargs={}, response_metadata={}, id='33693fb2-dc58-4886-abc7-a491a5e3adf0'),\n",
       "  AIMessage(content='', additional_kwargs={'function_call': {'name': 'get_stock_price', 'arguments': '{\"symbol\": \"MSFT\"}'}}, response_metadata={'prompt_feedback': {'block_reason': 0, 'safety_ratings': []}, 'finish_reason': 'STOP', 'model_name': 'gemini-2.0-flash', 'safety_ratings': []}, id='run--778b31ab-f908-45b7-9081-4d17951ce3d2-0', tool_calls=[{'name': 'get_stock_price', 'args': {'symbol': 'AMZN'}, 'id': '13675b98-a7a4-4bfd-95b1-86fad50d2e0c', 'type': 'tool_call'}, {'name': 'get_stock_price', 'args': {'symbol': 'MSFT'}, 'id': '6f677c72-8406-45ce-8f7c-03d79b168856', 'type': 'tool_call'}], usage_metadata={'input_tokens': 57, 'output_tokens': 16, 'total_tokens': 73, 'input_token_details': {'cache_read': 0}}),\n",
       "  ToolMessage(content='150.0', name='get_stock_price', id='e64cf158-0e7d-46b5-a4d0-f2892ee09912', tool_call_id='13675b98-a7a4-4bfd-95b1-86fad50d2e0c'),\n",
       "  ToolMessage(content='200.3', name='get_stock_price', id='d072cbb7-32de-47a6-80a0-08aa1348425f', tool_call_id='6f677c72-8406-45ce-8f7c-03d79b168856'),\n",
       "  AIMessage(content='The current price of AMZN is 150 and the current price of MSFT is 200.3. Therefore, the value of 20 AMZN stocks and 15 MSFT stocks together is 20 * 150 + 15 * 200.3 = 3000 + 3004.5 = 6004.5.', additional_kwargs={}, response_metadata={'prompt_feedback': {'block_reason': 0, 'safety_ratings': []}, 'finish_reason': 'STOP', 'model_name': 'gemini-2.0-flash', 'safety_ratings': []}, id='run--b5727a88-0073-4b52-9052-4eaa05005916-0', usage_metadata={'input_tokens': 87, 'output_tokens': 89, 'total_tokens': 176, 'input_token_details': {'cache_read': 0}})]}"
      ]
     },
     "execution_count": 11,
     "metadata": {},
     "output_type": "execute_result"
    }
   ],
   "source": [
    "state"
   ]
  },
  {
   "cell_type": "code",
   "execution_count": 17,
   "id": "7a9a1089",
   "metadata": {},
   "outputs": [
    {
     "data": {
      "text/plain": [
       "'I am sorry, I cannot fulfill this request as I do not have the functionality to get the stock price for \"RIL\". I can only get the stock price for \"AMZN\" and \"MSFT\".'"
      ]
     },
     "execution_count": 17,
     "metadata": {},
     "output_type": "execute_result"
    }
   ],
   "source": [
    "from langsmith import traceable\n",
    "\n",
    "config={'configurable': {'thread_id':'1'}}\n",
    "\n",
    "@traceable\n",
    "def call_graph(query):\n",
    "    state=graph.invoke({'messages':[{\"role\":\"user\",\"content\":query}]},config=config)\n",
    "    return state[\"messages\"][-1].content\n",
    "\n",
    "call_graph(\"Using the current price tell me the total price of 10 RIL stocks and add it to previous total\")"
   ]
  },
  {
   "cell_type": "code",
   "execution_count": 18,
   "id": "5adcc4e8",
   "metadata": {},
   "outputs": [
    {
     "data": {
      "text/plain": [
       "{'messages': [HumanMessage(content='what is the stock price of 20 AMZN stocks and 15 MSFT together', additional_kwargs={}, response_metadata={}, id='f0b07460-6eaa-4bfe-a7d4-70e71a9a320c'),\n",
       "  AIMessage(content='', additional_kwargs={'function_call': {'name': 'get_stock_price', 'arguments': '{\"symbol\": \"MSFT\"}'}}, response_metadata={'prompt_feedback': {'block_reason': 0, 'safety_ratings': []}, 'finish_reason': 'STOP', 'model_name': 'gemini-2.0-flash', 'safety_ratings': []}, id='run--f727b81d-5246-4bb8-bcbd-70959c0eae92-0', tool_calls=[{'name': 'get_stock_price', 'args': {'symbol': 'AMZN'}, 'id': '11141c78-80c0-433e-bf5e-893ee30cbb8e', 'type': 'tool_call'}, {'name': 'get_stock_price', 'args': {'symbol': 'MSFT'}, 'id': '5bdc696c-2155-4b45-b8b8-fa638f821d48', 'type': 'tool_call'}], usage_metadata={'input_tokens': 57, 'output_tokens': 16, 'total_tokens': 73, 'input_token_details': {'cache_read': 0}}),\n",
       "  ToolMessage(content='150.0', name='get_stock_price', id='4c1ce94b-7f88-4069-a893-108fa98479ba', tool_call_id='11141c78-80c0-433e-bf5e-893ee30cbb8e'),\n",
       "  ToolMessage(content='200.3', name='get_stock_price', id='abaafe61-1afd-46da-a653-04de702a51e7', tool_call_id='5bdc696c-2155-4b45-b8b8-fa638f821d48'),\n",
       "  AIMessage(content='The current price of AMZN is 150 and the current price of MSFT is 200.3. Therefore, the value of 20 AMZN stocks and 15 MSFT stocks together is 20 * 150 + 15 * 200.3 = 3000 + 3004.5 = 6004.5.', additional_kwargs={}, response_metadata={'prompt_feedback': {'block_reason': 0, 'safety_ratings': []}, 'finish_reason': 'STOP', 'model_name': 'gemini-2.0-flash', 'safety_ratings': []}, id='run--92687cdb-823f-4c29-9544-296b97862512-0', usage_metadata={'input_tokens': 87, 'output_tokens': 89, 'total_tokens': 176, 'input_token_details': {'cache_read': 0}}),\n",
       "  HumanMessage(content='Using the current price tell me the total price of 10 RIL stocks and add it to previous total', additional_kwargs={}, response_metadata={}, id='4128f1cc-53b8-480a-afdc-a33dcba45584'),\n",
       "  AIMessage(content='I cannot fulfill this request. The available tools do not have the functionality to get the stock price for \"RIL\". I can only get the stock price for \"AMZN\" and \"MSFT\".', additional_kwargs={}, response_metadata={'prompt_feedback': {'block_reason': 0, 'safety_ratings': []}, 'finish_reason': 'STOP', 'model_name': 'gemini-2.0-flash', 'safety_ratings': []}, id='run--d9b7fddc-4ccd-41d2-84db-0ed689e8b557-0', usage_metadata={'input_tokens': 197, 'output_tokens': 41, 'total_tokens': 238, 'input_token_details': {'cache_read': 0}}),\n",
       "  HumanMessage(content='what is the stock price of 20 AMZN stocks and 15 MSFT together', additional_kwargs={}, response_metadata={}, id='dc992fb3-d6b1-4be1-98b4-a1884eb170c0'),\n",
       "  AIMessage(content='', additional_kwargs={'function_call': {'name': 'get_stock_price', 'arguments': '{\"symbol\": \"MSFT\"}'}}, response_metadata={'prompt_feedback': {'block_reason': 0, 'safety_ratings': []}, 'finish_reason': 'STOP', 'model_name': 'gemini-2.0-flash', 'safety_ratings': []}, id='run--2a655892-1a64-4b97-9fed-ab431f5cf02c-0', tool_calls=[{'name': 'get_stock_price', 'args': {'symbol': 'AMZN'}, 'id': '726228e0-d137-468c-9ee1-a50e39839f68', 'type': 'tool_call'}, {'name': 'get_stock_price', 'args': {'symbol': 'MSFT'}, 'id': 'fb366f1e-0022-4f14-a4f7-e9cf9cf5b22b', 'type': 'tool_call'}], usage_metadata={'input_tokens': 256, 'output_tokens': 16, 'total_tokens': 272, 'input_token_details': {'cache_read': 0}}),\n",
       "  ToolMessage(content='150.0', name='get_stock_price', id='2b3af1ec-fafe-4bbb-82c0-f7956feab6b6', tool_call_id='726228e0-d137-468c-9ee1-a50e39839f68'),\n",
       "  ToolMessage(content='200.3', name='get_stock_price', id='61247c7b-3122-4b18-885c-5f644b48a25b', tool_call_id='fb366f1e-0022-4f14-a4f7-e9cf9cf5b22b'),\n",
       "  AIMessage(content='The current price of AMZN is 150 and the current price of MSFT is 200.3. Therefore, the value of 20 AMZN stocks and 15 MSFT stocks together is 20 * 150 + 15 * 200.3 = 3000 + 3004.5 = 6004.5.', additional_kwargs={}, response_metadata={'prompt_feedback': {'block_reason': 0, 'safety_ratings': []}, 'finish_reason': 'STOP', 'model_name': 'gemini-2.0-flash', 'safety_ratings': []}, id='run--57e727a8-1f11-4f6a-9373-6a7e4b3741bb-0', usage_metadata={'input_tokens': 286, 'output_tokens': 89, 'total_tokens': 375, 'input_token_details': {'cache_read': 0}})]}"
      ]
     },
     "execution_count": 18,
     "metadata": {},
     "output_type": "execute_result"
    }
   ],
   "source": [
    "state"
   ]
  },
  {
   "cell_type": "code",
   "execution_count": null,
   "id": "fa804de9",
   "metadata": {},
   "outputs": [],
   "source": []
  }
 ],
 "metadata": {
  "kernelspec": {
   "display_name": "base",
   "language": "python",
   "name": "python3"
  },
  "language_info": {
   "codemirror_mode": {
    "name": "ipython",
    "version": 3
   },
   "file_extension": ".py",
   "mimetype": "text/x-python",
   "name": "python",
   "nbconvert_exporter": "python",
   "pygments_lexer": "ipython3",
   "version": "3.11.5"
  }
 },
 "nbformat": 4,
 "nbformat_minor": 5
}
