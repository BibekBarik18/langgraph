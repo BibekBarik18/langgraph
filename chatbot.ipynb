{
 "cells": [
  {
   "cell_type": "code",
   "execution_count": 15,
   "id": "feb80a69",
   "metadata": {},
   "outputs": [
    {
     "data": {
      "text/plain": [
       "True"
      ]
     },
     "execution_count": 15,
     "metadata": {},
     "output_type": "execute_result"
    }
   ],
   "source": [
    "from typing import TypedDict\n",
    "from typing import Annotated\n",
    "from langchain.chat_models import init_chat_model\n",
    "from langgraph.graph import StateGraph,START,END\n",
    "from langgraph.graph.message import add_messages\n",
    "from dotenv import load_dotenv\n",
    "load_dotenv()"
   ]
  },
  {
   "cell_type": "code",
   "execution_count": 16,
   "id": "b0acca6f",
   "metadata": {},
   "outputs": [],
   "source": [
    "llm=init_chat_model(\"google_genai:gemini-2.0-flash\")\n",
    "\n",
    "class State(TypedDict):\n",
    "    messages:Annotated[list,add_messages]\n",
    "\n",
    "def chatbot(state:State)->State:\n",
    "    state[\"messages\"].append(llm.invoke(state[\"messages\"]))\n",
    "    return state\n",
    "\n",
    "builder=StateGraph(State)\n",
    "builder.add_node(\"chatbot_node\",chatbot)\n",
    "builder.add_edge(START,\"chatbot_node\")\n",
    "builder.add_edge(\"chatbot_node\",END)\n",
    "\n",
    "graph=builder.compile()"
   ]
  },
  {
   "cell_type": "code",
   "execution_count": 17,
   "id": "9389062f",
   "metadata": {},
   "outputs": [],
   "source": [
    "message={\"role\":\"user\",\"content\":\"Who walked on the moon\"}\n",
    "response=graph.invoke({\"messages\":[message]})"
   ]
  },
  {
   "cell_type": "code",
   "execution_count": 18,
   "id": "8786df20",
   "metadata": {},
   "outputs": [
    {
     "data": {
      "text/plain": [
       "[HumanMessage(content='Who walked on the moon', additional_kwargs={}, response_metadata={}, id='3b5e1bbe-28ba-415d-965e-a125a66ef091'),\n",
       " AIMessage(content=\"Here's a list of the 12 people who have walked on the moon, in the order they did so:\\n\\n1.  **Neil Armstrong** (Apollo 11) - July 20, 1969\\n2.  **Buzz Aldrin** (Apollo 11) - July 20, 1969\\n3.  **Pete Conrad** (Apollo 12) - November 19, 1969\\n4.  **Alan Bean** (Apollo 12) - November 19, 1969\\n5.  **Alan Shepard** (Apollo 14) - February 5, 1971\\n6.  **Edgar Mitchell** (Apollo 14) - February 5, 1971\\n7.  **David Scott** (Apollo 15) - July 31, 1971\\n8.  **James Irwin** (Apollo 15) - July 31, 1971\\n9.  **John Young** (Apollo 16) - April 21, 1972\\n10. **Charles Duke** (Apollo 16) - April 21, 1972\\n11. **Eugene Cernan** (Apollo 17) - December 11, 1972\\n12. **Harrison Schmitt** (Apollo 17) - December 11, 1972\", additional_kwargs={}, response_metadata={'prompt_feedback': {'block_reason': 0, 'safety_ratings': []}, 'finish_reason': 'STOP', 'model_name': 'gemini-2.0-flash', 'safety_ratings': []}, id='run--814136d8-6660-4987-8df8-ce1878cdaba3-0', usage_metadata={'input_tokens': 5, 'output_tokens': 326, 'total_tokens': 331, 'input_token_details': {'cache_read': 0}})]"
      ]
     },
     "execution_count": 18,
     "metadata": {},
     "output_type": "execute_result"
    }
   ],
   "source": [
    "response[\"messages\"]"
   ]
  },
  {
   "cell_type": "code",
   "execution_count": 20,
   "id": "74d6df6d",
   "metadata": {},
   "outputs": [
    {
     "name": "stdout",
     "output_type": "stream",
     "text": [
      "Bot: Hi there! How can I help you today?\n",
      "Bot: I am a large language model, trained by Google. I don't have a name.\n",
      "Bot: Ah, that's a good question! \"Gemini\" is the name of the **model** that I am based on. Think of it like this:\n",
      "\n",
      "*   **Gemini:** This is the technology, the specific architecture and the training that makes me, the AI, possible. It's like the blueprint for a building.\n",
      "*   **Me:** I'm the building built using that blueprint. I'm the interface you interact with. I don't have a separate name, I'm just a user interface powered by the Gemini model.\n",
      "\n",
      "So, while people might refer to me as Gemini, it's more accurate to say I'm *powered by* or *based on* the Gemini model. It's like saying \"that car is a Ford\" when you mean it's a Ford model, but you don't call the specific car \"Ford.\"\n",
      "\n",
      "Does that make sense?\n"
     ]
    }
   ],
   "source": [
    "state=None\n",
    "while True:\n",
    "    user=input(\"you :\")\n",
    "    if user.lower() in [\"quit\",\"exit\"]:\n",
    "        break\n",
    "    if state is None:\n",
    "        state:State={\n",
    "            \"messages\":[{\"role\":\"user\",\"content\":user}]\n",
    "        }\n",
    "    else:\n",
    "        state[\"messages\"].append({\"role\":\"user\",\"content\":user})\n",
    "    state=graph.invoke(state)\n",
    "    print(\"Bot:\",state[\"messages\"][-1].content) "
   ]
  },
  {
   "cell_type": "code",
   "execution_count": null,
   "id": "f7e9efa2",
   "metadata": {},
   "outputs": [],
   "source": []
  }
 ],
 "metadata": {
  "kernelspec": {
   "display_name": "base",
   "language": "python",
   "name": "python3"
  },
  "language_info": {
   "codemirror_mode": {
    "name": "ipython",
    "version": 3
   },
   "file_extension": ".py",
   "mimetype": "text/x-python",
   "name": "python",
   "nbconvert_exporter": "python",
   "pygments_lexer": "ipython3",
   "version": "3.11.5"
  }
 },
 "nbformat": 4,
 "nbformat_minor": 5
}
